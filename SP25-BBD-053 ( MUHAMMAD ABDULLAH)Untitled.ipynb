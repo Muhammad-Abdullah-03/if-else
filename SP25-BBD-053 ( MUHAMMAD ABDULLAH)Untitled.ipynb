{
 "cells": [
  {
   "cell_type": "markdown",
   "id": "9b6c60c0-fe04-44a5-bc27-c2e3d96c50fd",
   "metadata": {},
   "source": [
    "# question number 1"
   ]
  },
  {
   "cell_type": "code",
   "execution_count": 7,
   "id": "3bca2ffd-1800-402b-92b6-3abcbb72216f",
   "metadata": {},
   "outputs": [
    {
     "name": "stdout",
     "output_type": "stream",
     "text": [
      "is negative \n"
     ]
    }
   ],
   "source": [
    "num= -45\n",
    "if num>=0:\n",
    "    print(\"is positive\")\n",
    "elif num <= 0:\n",
    "    print (\"is negative \")\n",
    "else:\n",
    "    print(\"is zero\")"
   ]
  },
  {
   "cell_type": "markdown",
   "id": "f8b047c8-f32b-49af-8485-46053410c74c",
   "metadata": {},
   "source": [
    "# question number 2"
   ]
  },
  {
   "cell_type": "code",
   "execution_count": 9,
   "id": "ccbe7395-ddc5-4241-ae6b-18d9990f3d23",
   "metadata": {},
   "outputs": [
    {
     "name": "stdout",
     "output_type": "stream",
     "text": [
      "this is not a leap year\n"
     ]
    }
   ],
   "source": [
    "year = 36\n",
    "if year ==366:\n",
    "    print (\"this is a leap year\")\n",
    "elif year <=365:\n",
    "    print (\"this is not a leap year\")\n",
    "else:\n",
    " print (\"invalid\")"
   ]
  },
  {
   "cell_type": "markdown",
   "id": "37686f91-85b4-408a-805d-67032998f8fc",
   "metadata": {},
   "source": [
    "# question number 3"
   ]
  },
  {
   "cell_type": "code",
   "execution_count": 18,
   "id": "a4d6be81-fab0-4699-a480-3df72c593ace",
   "metadata": {},
   "outputs": [
    {
     "name": "stdout",
     "output_type": "stream",
     "text": [
      "you got an A\n"
     ]
    }
   ],
   "source": [
    "marks = 90\n",
    "if marks >=85:\n",
    "    print (\"you got an A\")\n",
    "elif marks >= 70:\n",
    "    print (\"you got a B\")\n",
    "elif marks >= 50 :\n",
    "    print (\"you got a c\")\n",
    "else:\n",
    "    marks <= 50\n",
    "    print (\"you got a f\")\n",
    "    "
   ]
  },
  {
   "cell_type": "code",
   "execution_count": null,
   "id": "31496cf3-7f93-4610-875e-7b5a6d45365d",
   "metadata": {},
   "outputs": [],
   "source": []
  }
 ],
 "metadata": {
  "kernelspec": {
   "display_name": "Python 3 (ipykernel)",
   "language": "python",
   "name": "python3"
  },
  "language_info": {
   "codemirror_mode": {
    "name": "ipython",
    "version": 3
   },
   "file_extension": ".py",
   "mimetype": "text/x-python",
   "name": "python",
   "nbconvert_exporter": "python",
   "pygments_lexer": "ipython3",
   "version": "3.12.4"
  }
 },
 "nbformat": 4,
 "nbformat_minor": 5
}
